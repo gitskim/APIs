{
  "nbformat": 4,
  "nbformat_minor": 0,
  "metadata": {
    "kernelspec": {
      "display_name": "Python 3",
      "language": "python",
      "name": "python3"
    },
    "language_info": {
      "codemirror_mode": {
        "name": "ipython",
        "version": 3
      },
      "file_extension": ".py",
      "mimetype": "text/x-python",
      "name": "python",
      "nbconvert_exporter": "python",
      "pygments_lexer": "ipython3",
      "version": "3.7.3"
    },
    "colab": {
      "name": "Copy of motion-1.ipynb",
      "provenance": [],
      "collapsed_sections": [],
      "include_colab_link": true
    }
  },
  "cells": [
    {
      "cell_type": "markdown",
      "metadata": {
        "id": "view-in-github",
        "colab_type": "text"
      },
      "source": [
        "<a href=\"https://colab.research.google.com/github/gitskim/APIs/blob/master/Copy_of_motion_1.ipynb\" target=\"_parent\"><img src=\"https://colab.research.google.com/assets/colab-badge.svg\" alt=\"Open In Colab\"/></a>"
      ]
    },
    {
      "cell_type": "markdown",
      "metadata": {
        "id": "6OGVOe_zVJ1W",
        "colab_type": "text"
      },
      "source": [
        "# Homework 6, Motion "
      ]
    },
    {
      "cell_type": "markdown",
      "metadata": {
        "id": "S6Hd6dqqVJ1Y",
        "colab_type": "text"
      },
      "source": [
        "In this homework, you will use the brightness constancy constraint to implement the Lucas-Kanade optical flow algorithm, and evaluate it on synthetic data. In addition, we ask some analytical questions, which you can answer in the cells provided.\n",
        "\n",
        "**Due:** Nov. 22, 2019, 11:59 PM New York Time\n",
        "\n",
        "**Deliverables**:\n",
        "Your submission should include this iPython notebook (titled <span style=\"color:red\">&lt;uni&gt;.ipynb</span>, run through once before submission, and do not clear the output) and generate a pdf. Please submit both the pdf and notebook (no zipped files).\n",
        "\n",
        "## Part 1) Filter the frames and calculate their derivatives\n",
        "\n",
        "#### a) Before calculating the derivatives of an image, smoothing is often needed. Please explain in your own words why this should be the case."
      ]
    },
    {
      "cell_type": "markdown",
      "metadata": {
        "id": "t5jK_R1aVJ1Z",
        "colab_type": "text"
      },
      "source": [
        "Your answer:"
      ]
    },
    {
      "cell_type": "markdown",
      "metadata": {
        "id": "0_XFZ6l7VJ1Z",
        "colab_type": "text"
      },
      "source": [
        "#### b) Video Gradients\n",
        "\n",
        "To implement the brightness constancy constraint, we need to calculate spatial and temporal gradients. Implement the functions below to calculate these gradients. The function calculate_derivatives() should return a tuple of 3 matrices: gradient in x, gradient in y, and gradient in time. Remember to use the gaussian filter to smooth the first image before calculating Ix and Iy, and use the box filter for the images to derive It."
      ]
    },
    {
      "cell_type": "code",
      "metadata": {
        "id": "GLplGgJYVJ1a",
        "colab_type": "code",
        "outputId": "f2d4c1d8-8045-420d-ddf2-27835272885e",
        "colab": {
          "base_uri": "https://localhost:8080/",
          "height": 121
        }
      },
      "source": [
        "import numpy as np\n",
        "import math\n",
        "from scipy import signal\n",
        "import skimage\n",
        "\n",
        "def gaussian2D(sigma=0.5):\n",
        "    \"\"\"\n",
        "    2D gaussian filter\n",
        "    \"\"\"\n",
        "    size = int(math.ceil(sigma * 6))\n",
        "    if (size % 2 == 0):\n",
        "        size += 1\n",
        "    r, c = np.ogrid[-size / 2: size / 2 + 1, -size / 2: size / 2 + 1]\n",
        "    g = np.exp(-(c * c + r * r) / (2. * sigma ** 2))\n",
        "    g = g / (g.sum() + 0.000001)\n",
        "    \n",
        "    return g\n",
        "\n",
        "def box2D(n):\n",
        "    \"\"\"\n",
        "    2D box filter\n",
        "    \"\"\"\n",
        "    box = np.full((n, n), 1. / (n * n))\n",
        "    return box\n",
        "\n",
        "\n",
        "def calculate_derivatives(one, two, sigma=0.5, n=3):\n",
        "  \"\"\"\n",
        "  Derive Ix, Iy and It in this function\n",
        "\n",
        "  To derive the spatial derivative in one image, you need to smooth the image with gaussian filter,\n",
        "  and calculate the derivative, signal.convolve2d and np.gradient might be useful here\n",
        "\n",
        "  To derive the temporal derivative in two images, you need to filter the images with box filters,\n",
        "  and then calculate the difference between the results\n",
        "  \"\"\"\n",
        "  box_fil = box2D(n)\n",
        "  gauss_fil = gaussian2D(sigma)\n",
        "  smoothed_one = signal.convolve2d(one, gauss_fil, mode='same')\n",
        "  smoothed_two = signal.convolve2d(two, gauss_fil, mode='same')\n",
        "  print(f'smoothed_one: {smoothed_one.shape}')\n",
        "  one_dx = np.gradient(smoothed_one, axis=0)\n",
        "  one_dy = np.gradient(smoothed_two, axis=1)\n",
        "\n",
        "  two_dx = np.gradient(smoothed_two, axis=0)\n",
        "  two_dy = np.gradient(smoothed_two, axis=1)\n",
        "\n",
        "  boxed_one = signal.convolve2d(one, box_fil, mode='same')\n",
        "  boxed_two = signal.convolve2d(two, box_fil, mode='same')\n",
        "  temporal_diff = boxed_two - boxed_one\n",
        "  print(f'one_dx: {one_dx.shape}, one_dy: {one_dy.shape}, temporal_diff: {temporal_diff.shape}')\n",
        "  return two_dx, two_dy, temporal_diff\n",
        "\n",
        "def rel_error(x, y):\n",
        "  return np.max(np.abs(x - y) / (np.maximum(1e-8, np.abs(x) + np.abs(y))))\n",
        "\n",
        "# test the calculate_derivatives function\n",
        "a = np.arange(50, step=2).reshape((5,5))\n",
        "b = np.roll(a, 1, axis=1)\n",
        "ix, iy, it = calculate_derivatives(a, b, 3, 3)\n",
        "correct_ix = np.array([[ 1.19566094,  1.44638748,  1.60119287,  1.62253849,  1.50447539],\n",
        "                        [ 1.0953402,   1.32258973,  1.4614055,   1.4781469,   1.36814814],\n",
        "                        [ 0.7722809,   0.92753122,  1.01928721,  1.02535579,  0.94404567],\n",
        "                        [ 0.25022598,  0.29355951,  0.31471869,  0.30865011,  0.27704506],\n",
        "                        [-0.04909038, -0.06915144, -0.0875189,  -0.09965607, -0.10218035]])\n",
        "correct_iy = np.array([[ 0.81434768,  0.67021012,  0.31799052, -0.11348914, -0.33688675],\n",
        "                       [ 1.06507422,  0.87297609,  0.40606602, -0.16184788, -0.45494985],\n",
        "                       [ 1.26884674,  1.03627543,  0.47354769, -0.2067465,  -0.55688427],\n",
        "                       [ 1.37557486,  1.1199824,   0.5038906,  -0.23708941, -0.61757009],\n",
        "                       [ 1.3555138,   1.10076814,  0.48863828, -0.24442014, -0.62009437]])\n",
        "correct_it = np.array([[ 1.33333333,  0.88888889, -1.33333333, -1.33333333, -0.88888889],\n",
        "                       [ 2.,          1.33333333, -2.,         -2.,         -1.33333333],\n",
        "                       [ 2.,          1.33333333, -2.,         -2.,         -1.33333333],\n",
        "                       [ 2.,          1.33333333, -2.,         -2.,         -1.33333333],\n",
        "                       [ 1.33333333,  0.88888889, -1.33333333, -1.33333333, -0.88888889]])\n",
        "\n",
        "print('Testing derivatives:')\n",
        "print('Ix difference: ', rel_error(ix, correct_ix))\n",
        "print('Iy difference: ', rel_error(iy, correct_iy))\n",
        "print('It difference: ', rel_error(it, correct_it))"
      ],
      "execution_count": 0,
      "outputs": [
        {
          "output_type": "stream",
          "text": [
            "smoothed_one: (5, 5)\n",
            "one_dx: (5, 5), one_dy: (5, 5), temporal_diff: (5, 5)\n",
            "Testing derivatives:\n",
            "Ix difference:  0.17145818802964946\n",
            "Iy difference:  0.2856958735350613\n",
            "It difference:  1.2500021866561346e-09\n"
          ],
          "name": "stdout"
        }
      ]
    },
    {
      "cell_type": "markdown",
      "metadata": {
        "id": "oez3x-rRVJ1c",
        "colab_type": "text"
      },
      "source": [
        "Once you are done, please run the following code to test if it's correct. The error should be in the magnitude of e-08. We have created some synthetic data. Your code should correctly recover the gradients with a low margin of error."
      ]
    },
    {
      "cell_type": "code",
      "metadata": {
        "id": "Q4ndG-8vVJ1d",
        "colab_type": "code",
        "colab": {}
      },
      "source": [
        "def rel_error(x, y):\n",
        "  return np.max(np.abs(x - y) / (np.maximum(1e-8, np.abs(x) + np.abs(y))))\n",
        "\n",
        "# test the calculate_derivatives function\n",
        "a = np.arange(50, step=2).reshape((5,5))\n",
        "b = np.roll(a, 1, axis=1)\n",
        "ix, iy, it = calculate_derivatives(a, b, 3, 3)\n",
        "correct_ix = np.array([[ 1.19566094,  1.44638748,  1.60119287,  1.62253849,  1.50447539],\n",
        "                        [ 1.0953402,   1.32258973,  1.4614055,   1.4781469,   1.36814814],\n",
        "                        [ 0.7722809,   0.92753122,  1.01928721,  1.02535579,  0.94404567],\n",
        "                        [ 0.25022598,  0.29355951,  0.31471869,  0.30865011,  0.27704506],\n",
        "                        [-0.04909038, -0.06915144, -0.0875189,  -0.09965607, -0.10218035]])\n",
        "correct_iy = np.array([[ 0.81434768,  0.67021012,  0.31799052, -0.11348914, -0.33688675],\n",
        "                       [ 1.06507422,  0.87297609,  0.40606602, -0.16184788, -0.45494985],\n",
        "                       [ 1.26884674,  1.03627543,  0.47354769, -0.2067465,  -0.55688427],\n",
        "                       [ 1.37557486,  1.1199824,   0.5038906,  -0.23708941, -0.61757009],\n",
        "                       [ 1.3555138,   1.10076814,  0.48863828, -0.24442014, -0.62009437]])\n",
        "correct_it = np.array([[ 1.33333333,  0.88888889, -1.33333333, -1.33333333, -0.88888889],\n",
        "                       [ 2.,          1.33333333, -2.,         -2.,         -1.33333333],\n",
        "                       [ 2.,          1.33333333, -2.,         -2.,         -1.33333333],\n",
        "                       [ 2.,          1.33333333, -2.,         -2.,         -1.33333333],\n",
        "                       [ 1.33333333,  0.88888889, -1.33333333, -1.33333333, -0.88888889]])\n",
        "\n",
        "print('Testing derivatives:')\n",
        "print('Ix difference: ', rel_error(ix, correct_ix))\n",
        "print('Iy difference: ', rel_error(iy, correct_iy))\n",
        "print('It difference: ', rel_error(it, correct_it))"
      ],
      "execution_count": 0,
      "outputs": []
    },
    {
      "cell_type": "markdown",
      "metadata": {
        "id": "aDB_oVDKVJ1f",
        "colab_type": "text"
      },
      "source": [
        "## Part 2) Lucas-Kanade Optical Flow\n",
        "\n",
        "#### a) Before the implementation, please explain why pseudo inverse is used in calculating the flow matrices"
      ]
    },
    {
      "cell_type": "markdown",
      "metadata": {
        "id": "KZGyjFF2VJ1f",
        "colab_type": "text"
      },
      "source": [
        "Your answer:"
      ]
    },
    {
      "cell_type": "markdown",
      "metadata": {
        "id": "8fDIHYBUVJ1g",
        "colab_type": "text"
      },
      "source": [
        "#### b) Implement Lucas-Kanade optical flow.\n",
        "\n",
        "In the function below, implement Lucas-Kanade optical flow using the brightness constancy constraint."
      ]
    },
    {
      "cell_type": "code",
      "metadata": {
        "id": "TahfXK1KVJ1h",
        "colab_type": "code",
        "colab": {}
      },
      "source": [
        "def optical_flow(I1g, I2g, x, y, window_size, sigma, n):\n",
        "    \"\"\"\n",
        "    use calculate_derivatives to obtain Ix, Iy and It, then use the window size to crop the derivatives around the image\n",
        "    location x, y. To calculate the pseudo inverse, you can use the pinv function included in numpy\n",
        "    :param i1: the first frame\n",
        "    :param i2: the second frame\n",
        "    :param x: location to calculate optical flow\n",
        "    :param y: location to calculate optical flow\n",
        "    :param window: size of the window\n",
        "    :param sigma: smoothing coefficient\n",
        "    :param n: box filter size\n",
        "    :return: u, v\n",
        "    \"\"\"\n",
        "    w = int(window_size/2) \n",
        "\n",
        "    # Calculate f_x, f_y, f_t\n",
        "    fx, fy, ft = calculate_derivatives(I1g, I2g, sigma, n)\n",
        "    \n",
        "    # TODO"
      ],
      "execution_count": 0,
      "outputs": []
    },
    {
      "cell_type": "markdown",
      "metadata": {
        "id": "WfguIRRMVJ1i",
        "colab_type": "text"
      },
      "source": [
        "#### Test Your Implementation\n",
        "\n",
        "Run the code below to test your implementation. You should get a very low margin of error."
      ]
    },
    {
      "cell_type": "code",
      "metadata": {
        "id": "VBzEZrH4VJ1j",
        "colab_type": "code",
        "colab": {}
      },
      "source": [
        "u, v = optical_flow(a, b, 2, 2, 3, 3, 3)\n",
        "\n",
        "correct_u = 1.4660487320722453\n",
        "correct_v = -1.84228885348387\n",
        "print('Testing derivatives:')\n",
        "print('u difference: ', rel_error(u, correct_u))\n",
        "print('v difference: ', rel_error(v, correct_v))"
      ],
      "execution_count": 0,
      "outputs": []
    },
    {
      "cell_type": "markdown",
      "metadata": {
        "id": "d24rVC6aVJ1l",
        "colab_type": "text"
      },
      "source": [
        "#### c) Is the Lucas-Kanade method for optical flow suitable for all motions? What type(s) of motion will not be properly estimated by the Lucas-Kanade method?"
      ]
    },
    {
      "cell_type": "markdown",
      "metadata": {
        "id": "4iKkUQOtVJ1l",
        "colab_type": "text"
      },
      "source": [
        "Your answer:"
      ]
    },
    {
      "cell_type": "code",
      "metadata": {
        "id": "TNTpv9z6VJ1m",
        "colab_type": "code",
        "colab": {}
      },
      "source": [
        ""
      ],
      "execution_count": 0,
      "outputs": []
    }
  ]
}